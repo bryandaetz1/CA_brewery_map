{
  "nbformat": 4,
  "nbformat_minor": 0,
  "metadata": {
    "colab": {
      "name": "brewery_data_cleaning.ipynb",
      "provenance": [],
      "authorship_tag": "ABX9TyPv7u7aWe5F9ns4HEJ+kP9G",
      "include_colab_link": true
    },
    "kernelspec": {
      "name": "python3",
      "display_name": "Python 3"
    }
  },
  "cells": [
    {
      "cell_type": "markdown",
      "metadata": {
        "id": "view-in-github",
        "colab_type": "text"
      },
      "source": [
        "<a href=\"https://colab.research.google.com/github/bryandaetz1/CA_brewery_map/blob/main/brewery_data_cleaning.ipynb\" target=\"_parent\"><img src=\"https://colab.research.google.com/assets/colab-badge.svg\" alt=\"Open In Colab\"/></a>"
      ]
    },
    {
      "cell_type": "code",
      "metadata": {
        "colab": {
          "base_uri": "https://localhost:8080/"
        },
        "id": "YSW78DiTX8oy",
        "outputId": "c01143ba-e9ba-4f76-c6ed-b9e6b0369907"
      },
      "source": [
        "!pip install geopandas\n",
        "!pip install geopy"
      ],
      "execution_count": 2,
      "outputs": [
        {
          "output_type": "stream",
          "text": [
            "Collecting geopandas\n",
            "\u001b[?25l  Downloading https://files.pythonhosted.org/packages/f7/a4/e66aafbefcbb717813bf3a355c8c4fc3ed04ea1dd7feb2920f2f4f868921/geopandas-0.8.1-py2.py3-none-any.whl (962kB)\n",
            "\u001b[K     |████████████████████████████████| 972kB 6.5MB/s \n",
            "\u001b[?25hRequirement already satisfied: pandas>=0.23.0 in /usr/local/lib/python3.6/dist-packages (from geopandas) (1.1.4)\n",
            "Requirement already satisfied: shapely in /usr/local/lib/python3.6/dist-packages (from geopandas) (1.7.1)\n",
            "Collecting pyproj>=2.2.0\n",
            "\u001b[?25l  Downloading https://files.pythonhosted.org/packages/e4/ab/280e80a67cfc109d15428c0ec56391fc03a65857b7727cf4e6e6f99a4204/pyproj-3.0.0.post1-cp36-cp36m-manylinux2010_x86_64.whl (6.4MB)\n",
            "\u001b[K     |████████████████████████████████| 6.5MB 19.6MB/s \n",
            "\u001b[?25hCollecting fiona\n",
            "\u001b[?25l  Downloading https://files.pythonhosted.org/packages/37/94/4910fd55246c1d963727b03885ead6ef1cd3748a465f7b0239ab25dfc9a3/Fiona-1.8.18-cp36-cp36m-manylinux1_x86_64.whl (14.8MB)\n",
            "\u001b[K     |████████████████████████████████| 14.8MB 299kB/s \n",
            "\u001b[?25hRequirement already satisfied: numpy>=1.15.4 in /usr/local/lib/python3.6/dist-packages (from pandas>=0.23.0->geopandas) (1.18.5)\n",
            "Requirement already satisfied: pytz>=2017.2 in /usr/local/lib/python3.6/dist-packages (from pandas>=0.23.0->geopandas) (2018.9)\n",
            "Requirement already satisfied: python-dateutil>=2.7.3 in /usr/local/lib/python3.6/dist-packages (from pandas>=0.23.0->geopandas) (2.8.1)\n",
            "Requirement already satisfied: certifi in /usr/local/lib/python3.6/dist-packages (from pyproj>=2.2.0->geopandas) (2020.11.8)\n",
            "Requirement already satisfied: six>=1.7 in /usr/local/lib/python3.6/dist-packages (from fiona->geopandas) (1.15.0)\n",
            "Collecting click-plugins>=1.0\n",
            "  Downloading https://files.pythonhosted.org/packages/e9/da/824b92d9942f4e472702488857914bdd50f73021efea15b4cad9aca8ecef/click_plugins-1.1.1-py2.py3-none-any.whl\n",
            "Collecting munch\n",
            "  Downloading https://files.pythonhosted.org/packages/cc/ab/85d8da5c9a45e072301beb37ad7f833cd344e04c817d97e0cc75681d248f/munch-2.5.0-py2.py3-none-any.whl\n",
            "Requirement already satisfied: attrs>=17 in /usr/local/lib/python3.6/dist-packages (from fiona->geopandas) (20.3.0)\n",
            "Requirement already satisfied: click<8,>=4.0 in /usr/local/lib/python3.6/dist-packages (from fiona->geopandas) (7.1.2)\n",
            "Collecting cligj>=0.5\n",
            "  Downloading https://files.pythonhosted.org/packages/42/1e/947eadf10d6804bf276eb8a038bd5307996dceaaa41cfd21b7a15ec62f5d/cligj-0.7.1-py3-none-any.whl\n",
            "Installing collected packages: pyproj, click-plugins, munch, cligj, fiona, geopandas\n",
            "Successfully installed click-plugins-1.1.1 cligj-0.7.1 fiona-1.8.18 geopandas-0.8.1 munch-2.5.0 pyproj-3.0.0.post1\n",
            "Requirement already satisfied: geopy in /usr/local/lib/python3.6/dist-packages (1.17.0)\n",
            "Requirement already satisfied: geographiclib<2,>=1.49 in /usr/local/lib/python3.6/dist-packages (from geopy) (1.50)\n"
          ],
          "name": "stdout"
        }
      ]
    },
    {
      "cell_type": "code",
      "metadata": {
        "id": "Ab5xuVNfX6h_"
      },
      "source": [
        "import pandas as pd\n",
        "import geopandas as gpd\n",
        "from geopy.extra.rate_limiter import RateLimiter\n",
        "from geopy.geocoders import Nominatim"
      ],
      "execution_count": 60,
      "outputs": []
    },
    {
      "cell_type": "code",
      "metadata": {
        "id": "skE3pX0gYYUL"
      },
      "source": [
        "brew_df = pd.read_csv('https://raw.githubusercontent.com/bryandaetz1/CA_brewery_map/main/breweries_raw.csv')\n",
        "beer_df = pd.read_csv('https://raw.githubusercontent.com/bryandaetz1/CA_brewery_map/main/beers_raw.csv')"
      ],
      "execution_count": 61,
      "outputs": []
    },
    {
      "cell_type": "code",
      "metadata": {
        "id": "7rkXtSFfYZt3"
      },
      "source": [
        "#filling in missing or incorrect values based on actual values from website\n",
        "brew_df.iloc[3] = ['Ohana Brewing Company',\n",
        "                   '7 S 1st Street\\nAlhambra, California, United States',\n",
        "                   'http://ohanabrew.com']\n",
        "\n",
        "brew_df.iloc[279] = [\"The Dudes' Brewing Company\",\n",
        "                     '304\\n395 Santa Monica Place\\nSanta Monica, California, United States',\n",
        "                     'http://www.thedudesbrew.com']\n",
        "\n",
        "brew_df.iloc[280] = ['Cooperage Brewing Company',\n",
        "                     'G\\n981 Airway Court\\nSanta Rosa, California, United States',\n",
        "                     'https://cooperagebrewing.com']\n",
        "\n",
        "brew_df.iloc[288] = ['Culture Brewing Co.',\n",
        "                     'Ste 200\\n111 S Cedros Ave\\nSolana Beach, California, United States',\n",
        "                     'https://culturebrewingco.com']\n",
        "\n",
        "brew_df.iloc[305] = ['Back Street Brewery',\n",
        "                     '#B100\\n15 Main St.\\nVista, California, United States',\n",
        "                     'http://www.backstreetbrew.com']\n",
        "\n",
        "brew_df.iloc[317] = ['MadeWest Brewing Company',\n",
        "                     '1744 Donlon Street\\nWestlake Village, California, United States',\n",
        "                     'https://madewest.com']"
      ],
      "execution_count": 62,
      "outputs": []
    },
    {
      "cell_type": "code",
      "metadata": {
        "id": "rRXQYHbAYcaV"
      },
      "source": [
        "#removing Address from the end of each brewery name in brew_df\n",
        "brew_df['Brewery'] = brew_df['Brewery'].str.replace('Address','').str.strip()\n",
        "\n",
        "#removing Address from the end of each brewery name in beer_df\n",
        "beer_df['Brewery'] = beer_df['Brewery'].str.replace('Address','').str.strip()"
      ],
      "execution_count": 63,
      "outputs": []
    },
    {
      "cell_type": "code",
      "metadata": {
        "id": "oJLX3DCnYeuA"
      },
      "source": [
        "#appending missing beers to beers_df dataframe\n",
        "beers_append = pd.DataFrame(data = [['Ohana Brewing Company','Spa Water Saison','Saison / Farmhouse Ale'],\n",
        "                                     [\"The Dudes' Brewing Company\",'Blood Orange','American Amber / Red Ale'],\n",
        "                                     [\"The Dudes' Brewing Company\",'Boysenberry','American Pale Wheat Ale'],\n",
        "                                     [\"The Dudes' Brewing Company\",'CalifornIPA','American IPA'],\n",
        "                                     [\"The Dudes' Brewing Company\",'Coconut','American Porter'],\n",
        "                                     [\"The Dudes' Brewing Company\",'Double Trunk','American IPA'],\n",
        "                                     [\"The Dudes' Brewing Company\",\"Grandma's Pecan\",'English Brown Ale'],\n",
        "                                     [\"The Dudes' Brewing Company\",\"Los Dude's Cerveza\",'Light Lager'],\n",
        "                                     [\"The Dudes' Brewing Company\",'Most Excellent IPA','American IPA'],\n",
        "                                     [\"The Dudes' Brewing Company\",'Peach','Berliner Weissbier'],\n",
        "                                     [\"The Dudes' Brewing Company\",'Schitzengiggle','Märzen / Oktoberfest'],\n",
        "                                     [\"The Dudes' Brewing Company\",'Wiser Dude','American Double / Imperial Pilsner'],\n",
        "                                     ['Cooperage Brewing Company','Cultivating Mass','American Double / Imperial Stout'],\n",
        "                                     ['Culture Brewing Co.','2x Black IPA','American Double / Imperial IPA'],\n",
        "                                     ['Culture Brewing Co.','2x IPA','American Double / Imperial IPA'],\n",
        "                                     ['Culture Brewing Co.', '3x IPA','American Double / Imperial IPA'],\n",
        "                                     ['Culture Brewing Co.', 'Blond Ale','American Blonde Ale'],\n",
        "                                     ['Back Street Brewery','Tomahawk Double IPA','American Double / Imperial IPA'],\n",
        "                                     ['Back Street Brewery','Set Sail IPA','American IPA'],\n",
        "                                     ['Back Street Brewery','Rita Red Ale','American Amber / Red Ale'],\n",
        "                                     ['Back Street Brewery','Rydin’ Dirty Rye IPA','American IPA'],\n",
        "                                     ['MadeWest Brewing Company','Donlon IIPA','American Double / Imperial IPA']\n",
        "                                     ],\n",
        "                            columns = ['Brewery','Beer','Style'])\n",
        "\n",
        "beer_df = pd.concat([beer_df,beers_append], axis = 0, sort = False).reset_index(drop = True)"
      ],
      "execution_count": 64,
      "outputs": []
    },
    {
      "cell_type": "code",
      "metadata": {
        "colab": {
          "base_uri": "https://localhost:8080/"
        },
        "id": "HBhW1MVjX_fT",
        "outputId": "a3333af6-0cd6-411e-dd94-e290afdc7c7e"
      },
      "source": [
        "#geocoding brew_df to get longitude and latitude\n",
        "\n",
        "locator = Nominatim(user_agent='bdaetz19@hotmail.com')\n",
        "\n",
        "#function to delay between geocoding calls\n",
        "geocode = RateLimiter(locator.geocode, min_delay_seconds=1)\n",
        "\n",
        "#create location column\n",
        "brew_df['location'] = brew_df['Address'].apply(geocode)\n",
        "\n",
        "#create longitude,latitude and altitude from location column (returns tuple)\n",
        "brew_df['point'] = brew_df['location'].apply(lambda loc: tuple(loc.point) if loc else None)\n",
        "\n",
        "#split point column into latitude, longitude and altitude columns\n",
        "brew_df[['latitude','longitude','altitude']] = pd.DataFrame(brew_df['point'].tolist(), index = brew_df.index)"
      ],
      "execution_count": 16,
      "outputs": [
        {
          "output_type": "stream",
          "text": [
            "RateLimiter caught an error, retrying (0/2 tries). Called with (*('6421 Central Avenue\\nLittle River, California, United States',), **{}).\n",
            "Traceback (most recent call last):\n",
            "  File \"/usr/local/lib/python3.6/dist-packages/geopy/geocoders/base.py\", line 344, in _call_geocoder\n",
            "    page = requester(req, timeout=timeout, **kwargs)\n",
            "  File \"/usr/lib/python3.6/urllib/request.py\", line 526, in open\n",
            "    response = self._open(req, data)\n",
            "  File \"/usr/lib/python3.6/urllib/request.py\", line 544, in _open\n",
            "    '_open', req)\n",
            "  File \"/usr/lib/python3.6/urllib/request.py\", line 504, in _call_chain\n",
            "    result = func(*args)\n",
            "  File \"/usr/lib/python3.6/urllib/request.py\", line 1368, in https_open\n",
            "    context=self._context, check_hostname=self._check_hostname)\n",
            "  File \"/usr/lib/python3.6/urllib/request.py\", line 1328, in do_open\n",
            "    r = h.getresponse()\n",
            "  File \"/usr/lib/python3.6/http/client.py\", line 1373, in getresponse\n",
            "    response.begin()\n",
            "  File \"/usr/lib/python3.6/http/client.py\", line 311, in begin\n",
            "    version, status, reason = self._read_status()\n",
            "  File \"/usr/lib/python3.6/http/client.py\", line 272, in _read_status\n",
            "    line = str(self.fp.readline(_MAXLINE + 1), \"iso-8859-1\")\n",
            "  File \"/usr/lib/python3.6/socket.py\", line 586, in readinto\n",
            "    return self._sock.recv_into(b)\n",
            "  File \"/usr/lib/python3.6/ssl.py\", line 1012, in recv_into\n",
            "    return self.read(nbytes, buffer)\n",
            "  File \"/usr/lib/python3.6/ssl.py\", line 874, in read\n",
            "    return self._sslobj.read(len, buffer)\n",
            "  File \"/usr/lib/python3.6/ssl.py\", line 631, in read\n",
            "    v = self._sslobj.read(len, buffer)\n",
            "socket.timeout: The read operation timed out\n",
            "\n",
            "During handling of the above exception, another exception occurred:\n",
            "\n",
            "Traceback (most recent call last):\n",
            "  File \"/usr/local/lib/python3.6/dist-packages/geopy/extra/rate_limiter.py\", line 130, in __call__\n",
            "    return self.func(*args, **kwargs)\n",
            "  File \"/usr/local/lib/python3.6/dist-packages/geopy/geocoders/osm.py\", line 307, in geocode\n",
            "    self._call_geocoder(url, timeout=timeout), exactly_one\n",
            "  File \"/usr/local/lib/python3.6/dist-packages/geopy/geocoders/base.py\", line 371, in _call_geocoder\n",
            "    raise GeocoderTimedOut('Service timed out')\n",
            "geopy.exc.GeocoderTimedOut: Service timed out\n",
            "RateLimiter caught an error, retrying (0/2 tries). Called with (*('1627 S. 7th Street\\nSan Jose, California, United States',), **{}).\n",
            "Traceback (most recent call last):\n",
            "  File \"/usr/local/lib/python3.6/dist-packages/geopy/geocoders/base.py\", line 344, in _call_geocoder\n",
            "    page = requester(req, timeout=timeout, **kwargs)\n",
            "  File \"/usr/lib/python3.6/urllib/request.py\", line 526, in open\n",
            "    response = self._open(req, data)\n",
            "  File \"/usr/lib/python3.6/urllib/request.py\", line 544, in _open\n",
            "    '_open', req)\n",
            "  File \"/usr/lib/python3.6/urllib/request.py\", line 504, in _call_chain\n",
            "    result = func(*args)\n",
            "  File \"/usr/lib/python3.6/urllib/request.py\", line 1368, in https_open\n",
            "    context=self._context, check_hostname=self._check_hostname)\n",
            "  File \"/usr/lib/python3.6/urllib/request.py\", line 1328, in do_open\n",
            "    r = h.getresponse()\n",
            "  File \"/usr/lib/python3.6/http/client.py\", line 1373, in getresponse\n",
            "    response.begin()\n",
            "  File \"/usr/lib/python3.6/http/client.py\", line 311, in begin\n",
            "    version, status, reason = self._read_status()\n",
            "  File \"/usr/lib/python3.6/http/client.py\", line 272, in _read_status\n",
            "    line = str(self.fp.readline(_MAXLINE + 1), \"iso-8859-1\")\n",
            "  File \"/usr/lib/python3.6/socket.py\", line 586, in readinto\n",
            "    return self._sock.recv_into(b)\n",
            "  File \"/usr/lib/python3.6/ssl.py\", line 1012, in recv_into\n",
            "    return self.read(nbytes, buffer)\n",
            "  File \"/usr/lib/python3.6/ssl.py\", line 874, in read\n",
            "    return self._sslobj.read(len, buffer)\n",
            "  File \"/usr/lib/python3.6/ssl.py\", line 631, in read\n",
            "    v = self._sslobj.read(len, buffer)\n",
            "socket.timeout: The read operation timed out\n",
            "\n",
            "During handling of the above exception, another exception occurred:\n",
            "\n",
            "Traceback (most recent call last):\n",
            "  File \"/usr/local/lib/python3.6/dist-packages/geopy/extra/rate_limiter.py\", line 130, in __call__\n",
            "    return self.func(*args, **kwargs)\n",
            "  File \"/usr/local/lib/python3.6/dist-packages/geopy/geocoders/osm.py\", line 307, in geocode\n",
            "    self._call_geocoder(url, timeout=timeout), exactly_one\n",
            "  File \"/usr/local/lib/python3.6/dist-packages/geopy/geocoders/base.py\", line 371, in _call_geocoder\n",
            "    raise GeocoderTimedOut('Service timed out')\n",
            "geopy.exc.GeocoderTimedOut: Service timed out\n",
            "RateLimiter caught an error, retrying (1/2 tries). Called with (*('1627 S. 7th Street\\nSan Jose, California, United States',), **{}).\n",
            "Traceback (most recent call last):\n",
            "  File \"/usr/local/lib/python3.6/dist-packages/geopy/geocoders/base.py\", line 344, in _call_geocoder\n",
            "    page = requester(req, timeout=timeout, **kwargs)\n",
            "  File \"/usr/lib/python3.6/urllib/request.py\", line 526, in open\n",
            "    response = self._open(req, data)\n",
            "  File \"/usr/lib/python3.6/urllib/request.py\", line 544, in _open\n",
            "    '_open', req)\n",
            "  File \"/usr/lib/python3.6/urllib/request.py\", line 504, in _call_chain\n",
            "    result = func(*args)\n",
            "  File \"/usr/lib/python3.6/urllib/request.py\", line 1368, in https_open\n",
            "    context=self._context, check_hostname=self._check_hostname)\n",
            "  File \"/usr/lib/python3.6/urllib/request.py\", line 1328, in do_open\n",
            "    r = h.getresponse()\n",
            "  File \"/usr/lib/python3.6/http/client.py\", line 1373, in getresponse\n",
            "    response.begin()\n",
            "  File \"/usr/lib/python3.6/http/client.py\", line 311, in begin\n",
            "    version, status, reason = self._read_status()\n",
            "  File \"/usr/lib/python3.6/http/client.py\", line 272, in _read_status\n",
            "    line = str(self.fp.readline(_MAXLINE + 1), \"iso-8859-1\")\n",
            "  File \"/usr/lib/python3.6/socket.py\", line 586, in readinto\n",
            "    return self._sock.recv_into(b)\n",
            "  File \"/usr/lib/python3.6/ssl.py\", line 1012, in recv_into\n",
            "    return self.read(nbytes, buffer)\n",
            "  File \"/usr/lib/python3.6/ssl.py\", line 874, in read\n",
            "    return self._sslobj.read(len, buffer)\n",
            "  File \"/usr/lib/python3.6/ssl.py\", line 631, in read\n",
            "    v = self._sslobj.read(len, buffer)\n",
            "socket.timeout: The read operation timed out\n",
            "\n",
            "During handling of the above exception, another exception occurred:\n",
            "\n",
            "Traceback (most recent call last):\n",
            "  File \"/usr/local/lib/python3.6/dist-packages/geopy/extra/rate_limiter.py\", line 130, in __call__\n",
            "    return self.func(*args, **kwargs)\n",
            "  File \"/usr/local/lib/python3.6/dist-packages/geopy/geocoders/osm.py\", line 307, in geocode\n",
            "    self._call_geocoder(url, timeout=timeout), exactly_one\n",
            "  File \"/usr/local/lib/python3.6/dist-packages/geopy/geocoders/base.py\", line 371, in _call_geocoder\n",
            "    raise GeocoderTimedOut('Service timed out')\n",
            "geopy.exc.GeocoderTimedOut: Service timed out\n",
            "RateLimiter swallowed an error after 2 retries. Called with (*('1627 S. 7th Street\\nSan Jose, California, United States',), **{}).\n",
            "Traceback (most recent call last):\n",
            "  File \"/usr/local/lib/python3.6/dist-packages/geopy/geocoders/base.py\", line 344, in _call_geocoder\n",
            "    page = requester(req, timeout=timeout, **kwargs)\n",
            "  File \"/usr/lib/python3.6/urllib/request.py\", line 526, in open\n",
            "    response = self._open(req, data)\n",
            "  File \"/usr/lib/python3.6/urllib/request.py\", line 544, in _open\n",
            "    '_open', req)\n",
            "  File \"/usr/lib/python3.6/urllib/request.py\", line 504, in _call_chain\n",
            "    result = func(*args)\n",
            "  File \"/usr/lib/python3.6/urllib/request.py\", line 1368, in https_open\n",
            "    context=self._context, check_hostname=self._check_hostname)\n",
            "  File \"/usr/lib/python3.6/urllib/request.py\", line 1328, in do_open\n",
            "    r = h.getresponse()\n",
            "  File \"/usr/lib/python3.6/http/client.py\", line 1373, in getresponse\n",
            "    response.begin()\n",
            "  File \"/usr/lib/python3.6/http/client.py\", line 311, in begin\n",
            "    version, status, reason = self._read_status()\n",
            "  File \"/usr/lib/python3.6/http/client.py\", line 272, in _read_status\n",
            "    line = str(self.fp.readline(_MAXLINE + 1), \"iso-8859-1\")\n",
            "  File \"/usr/lib/python3.6/socket.py\", line 586, in readinto\n",
            "    return self._sock.recv_into(b)\n",
            "  File \"/usr/lib/python3.6/ssl.py\", line 1012, in recv_into\n",
            "    return self.read(nbytes, buffer)\n",
            "  File \"/usr/lib/python3.6/ssl.py\", line 874, in read\n",
            "    return self._sslobj.read(len, buffer)\n",
            "  File \"/usr/lib/python3.6/ssl.py\", line 631, in read\n",
            "    v = self._sslobj.read(len, buffer)\n",
            "socket.timeout: The read operation timed out\n",
            "\n",
            "During handling of the above exception, another exception occurred:\n",
            "\n",
            "Traceback (most recent call last):\n",
            "  File \"/usr/local/lib/python3.6/dist-packages/geopy/extra/rate_limiter.py\", line 130, in __call__\n",
            "    return self.func(*args, **kwargs)\n",
            "  File \"/usr/local/lib/python3.6/dist-packages/geopy/geocoders/osm.py\", line 307, in geocode\n",
            "    self._call_geocoder(url, timeout=timeout), exactly_one\n",
            "  File \"/usr/local/lib/python3.6/dist-packages/geopy/geocoders/base.py\", line 371, in _call_geocoder\n",
            "    raise GeocoderTimedOut('Service timed out')\n",
            "geopy.exc.GeocoderTimedOut: Service timed out\n",
            "RateLimiter caught an error, retrying (0/2 tries). Called with (*('1451 Fairway Drive\\nSanta Maria, California, United States',), **{}).\n",
            "Traceback (most recent call last):\n",
            "  File \"/usr/local/lib/python3.6/dist-packages/geopy/geocoders/base.py\", line 344, in _call_geocoder\n",
            "    page = requester(req, timeout=timeout, **kwargs)\n",
            "  File \"/usr/lib/python3.6/urllib/request.py\", line 526, in open\n",
            "    response = self._open(req, data)\n",
            "  File \"/usr/lib/python3.6/urllib/request.py\", line 544, in _open\n",
            "    '_open', req)\n",
            "  File \"/usr/lib/python3.6/urllib/request.py\", line 504, in _call_chain\n",
            "    result = func(*args)\n",
            "  File \"/usr/lib/python3.6/urllib/request.py\", line 1368, in https_open\n",
            "    context=self._context, check_hostname=self._check_hostname)\n",
            "  File \"/usr/lib/python3.6/urllib/request.py\", line 1328, in do_open\n",
            "    r = h.getresponse()\n",
            "  File \"/usr/lib/python3.6/http/client.py\", line 1373, in getresponse\n",
            "    response.begin()\n",
            "  File \"/usr/lib/python3.6/http/client.py\", line 311, in begin\n",
            "    version, status, reason = self._read_status()\n",
            "  File \"/usr/lib/python3.6/http/client.py\", line 272, in _read_status\n",
            "    line = str(self.fp.readline(_MAXLINE + 1), \"iso-8859-1\")\n",
            "  File \"/usr/lib/python3.6/socket.py\", line 586, in readinto\n",
            "    return self._sock.recv_into(b)\n",
            "  File \"/usr/lib/python3.6/ssl.py\", line 1012, in recv_into\n",
            "    return self.read(nbytes, buffer)\n",
            "  File \"/usr/lib/python3.6/ssl.py\", line 874, in read\n",
            "    return self._sslobj.read(len, buffer)\n",
            "  File \"/usr/lib/python3.6/ssl.py\", line 631, in read\n",
            "    v = self._sslobj.read(len, buffer)\n",
            "socket.timeout: The read operation timed out\n",
            "\n",
            "During handling of the above exception, another exception occurred:\n",
            "\n",
            "Traceback (most recent call last):\n",
            "  File \"/usr/local/lib/python3.6/dist-packages/geopy/extra/rate_limiter.py\", line 130, in __call__\n",
            "    return self.func(*args, **kwargs)\n",
            "  File \"/usr/local/lib/python3.6/dist-packages/geopy/geocoders/osm.py\", line 307, in geocode\n",
            "    self._call_geocoder(url, timeout=timeout), exactly_one\n",
            "  File \"/usr/local/lib/python3.6/dist-packages/geopy/geocoders/base.py\", line 371, in _call_geocoder\n",
            "    raise GeocoderTimedOut('Service timed out')\n",
            "geopy.exc.GeocoderTimedOut: Service timed out\n"
          ],
          "name": "stderr"
        }
      ]
    },
    {
      "cell_type": "code",
      "metadata": {
        "colab": {
          "base_uri": "https://localhost:8080/",
          "height": 289
        },
        "id": "g3t1c3QzYm9f",
        "outputId": "e7565705-9e86-48be-d630-d540148861c0"
      },
      "source": [
        "brew_df.head()"
      ],
      "execution_count": 17,
      "outputs": [
        {
          "output_type": "execute_result",
          "data": {
            "text/html": [
              "<div>\n",
              "<style scoped>\n",
              "    .dataframe tbody tr th:only-of-type {\n",
              "        vertical-align: middle;\n",
              "    }\n",
              "\n",
              "    .dataframe tbody tr th {\n",
              "        vertical-align: top;\n",
              "    }\n",
              "\n",
              "    .dataframe thead th {\n",
              "        text-align: right;\n",
              "    }\n",
              "</style>\n",
              "<table border=\"1\" class=\"dataframe\">\n",
              "  <thead>\n",
              "    <tr style=\"text-align: right;\">\n",
              "      <th></th>\n",
              "      <th>Brewery</th>\n",
              "      <th>Address</th>\n",
              "      <th>Contact_Info</th>\n",
              "      <th>location</th>\n",
              "      <th>point</th>\n",
              "      <th>latitude</th>\n",
              "      <th>longitude</th>\n",
              "      <th>altitude</th>\n",
              "    </tr>\n",
              "  </thead>\n",
              "  <tbody>\n",
              "    <tr>\n",
              "      <th>0</th>\n",
              "      <td>Alameda Island Brewing Company</td>\n",
              "      <td>1716 Park Street\\nAlameda, California, United ...</td>\n",
              "      <td>http://alamedaislandbrewingcompany.com/</td>\n",
              "      <td>(1716, Park Street, Alameda, Alameda County, C...</td>\n",
              "      <td>(37.768997366838015, -122.23864316651895, 0.0)</td>\n",
              "      <td>37.768997</td>\n",
              "      <td>-122.238643</td>\n",
              "      <td>0.0</td>\n",
              "    </tr>\n",
              "    <tr>\n",
              "      <th>1</th>\n",
              "      <td>Faction Brewing</td>\n",
              "      <td>2501 Monarch Street\\nAlameda, California, Unit...</td>\n",
              "      <td>http://factionbrewing.com/</td>\n",
              "      <td>(Faction Brewing, 2501, Monarch Street, Alamed...</td>\n",
              "      <td>(37.78651979999999, -122.30934879928142, 0.0)</td>\n",
              "      <td>37.786520</td>\n",
              "      <td>-122.309349</td>\n",
              "      <td>0.0</td>\n",
              "    </tr>\n",
              "    <tr>\n",
              "      <th>2</th>\n",
              "      <td>Ocean View Brew Works</td>\n",
              "      <td>627 San Pablo Avenue\\nAlbany, California, Unit...</td>\n",
              "      <td>https://www.oceanviewbrews.com/</td>\n",
              "      <td>(Ocean View Brew Works, 627, San Pablo Avenue,...</td>\n",
              "      <td>(37.8941775, -122.2999572, 0.0)</td>\n",
              "      <td>37.894177</td>\n",
              "      <td>-122.299957</td>\n",
              "      <td>0.0</td>\n",
              "    </tr>\n",
              "    <tr>\n",
              "      <th>3</th>\n",
              "      <td>Ohana Brewing Company</td>\n",
              "      <td>7 S 1st Street\\nAlhambra, California, United S...</td>\n",
              "      <td>http://ohanabrew.com</td>\n",
              "      <td>(7, 1st Street, Alhambra, Los Angeles County, ...</td>\n",
              "      <td>(34.09450469387755, -118.12790740816325, 0.0)</td>\n",
              "      <td>34.094505</td>\n",
              "      <td>-118.127907</td>\n",
              "      <td>0.0</td>\n",
              "    </tr>\n",
              "    <tr>\n",
              "      <th>4</th>\n",
              "      <td>Alpine Beer Company</td>\n",
              "      <td>2363 Alpine Blvd\\nAlpine, California, United S...</td>\n",
              "      <td>http://alpinebeerco.com/home/</td>\n",
              "      <td>(2363, Alpine Boulevard, San Diego County, Cal...</td>\n",
              "      <td>(32.835121, -116.7626188, 0.0)</td>\n",
              "      <td>32.835121</td>\n",
              "      <td>-116.762619</td>\n",
              "      <td>0.0</td>\n",
              "    </tr>\n",
              "  </tbody>\n",
              "</table>\n",
              "</div>"
            ],
            "text/plain": [
              "                          Brewery  ... altitude\n",
              "0  Alameda Island Brewing Company  ...      0.0\n",
              "1                 Faction Brewing  ...      0.0\n",
              "2           Ocean View Brew Works  ...      0.0\n",
              "3           Ohana Brewing Company  ...      0.0\n",
              "4             Alpine Beer Company  ...      0.0\n",
              "\n",
              "[5 rows x 8 columns]"
            ]
          },
          "metadata": {
            "tags": []
          },
          "execution_count": 17
        }
      ]
    },
    {
      "cell_type": "code",
      "metadata": {
        "colab": {
          "base_uri": "https://localhost:8080/"
        },
        "id": "17ZTP4Rae4Ek",
        "outputId": "da85dd3c-08da-4b82-88b5-e9b8cc6bbcb2"
      },
      "source": [
        "brew_df.isna().sum()"
      ],
      "execution_count": 19,
      "outputs": [
        {
          "output_type": "execute_result",
          "data": {
            "text/plain": [
              "Brewery           0\n",
              "Address           0\n",
              "Contact_Info      0\n",
              "location        102\n",
              "point           102\n",
              "latitude        102\n",
              "longitude       102\n",
              "altitude        102\n",
              "dtype: int64"
            ]
          },
          "metadata": {
            "tags": []
          },
          "execution_count": 19
        }
      ]
    },
    {
      "cell_type": "code",
      "metadata": {
        "id": "j_ydXZL6e94B"
      },
      "source": [
        "#saving dataframe with the addresses that were successfully geocoded\n",
        "brew_geocoded = brew_df[~brew_df['latitude'].isna()][['Brewery','Address','Contact_Info','latitude','longitude']].reset_index(drop = True)"
      ],
      "execution_count": 26,
      "outputs": []
    },
    {
      "cell_type": "code",
      "metadata": {
        "id": "ZQEJbfhwfiVZ"
      },
      "source": [
        "brew_geocoded.to_csv('brew_geocoded_1.csv',index = False)"
      ],
      "execution_count": 27,
      "outputs": []
    },
    {
      "cell_type": "code",
      "metadata": {
        "id": "UCR_HetMfkBn"
      },
      "source": [
        "#saving dataframe with the addresses that were not successfully geocoded\n",
        "brew_2 = brew_df[brew_df['latitude'].isna()][['Brewery','Address','Contact_Info']].reset_index(drop=True)"
      ],
      "execution_count": 56,
      "outputs": []
    },
    {
      "cell_type": "code",
      "metadata": {
        "id": "97JH7uaHjfw4"
      },
      "source": [
        "brew_2.to_csv('brew_uncoded.csv',index = False)"
      ],
      "execution_count": 58,
      "outputs": []
    },
    {
      "cell_type": "code",
      "metadata": {
        "id": "TSestQfLk1-D"
      },
      "source": [
        "#creating csv file from the cleaned beers_df dataframe\n",
        "beer_df.to_csv('beers.csv',index = False)"
      ],
      "execution_count": 66,
      "outputs": []
    },
    {
      "cell_type": "code",
      "metadata": {
        "id": "WLBKCA4QnQHG"
      },
      "source": [
        ""
      ],
      "execution_count": null,
      "outputs": []
    }
  ]
}